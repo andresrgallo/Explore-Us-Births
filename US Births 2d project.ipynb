{
 "cells": [
  {
   "cell_type": "code",
   "execution_count": 2,
   "metadata": {
    "collapsed": false
   },
   "outputs": [
    {
     "name": "stdout",
     "output_type": "stream",
     "text": [
      "['year,month,date_of_month,day_of_week,births', '1994,1,1,6,8096', '1994,1,2,7,7772', '1994,1,3,1,10142', '1994,1,4,2,11248', '1994,1,5,3,11053', '1994,1,6,4,11406', '1994,1,7,5,11251', '1994,1,8,6,8653', '1994,1,9,7,7910']\n"
     ]
    }
   ],
   "source": [
    "f = open(\"US_births_1994-2003_CDC_NCHS.csv\",\"r\")\n",
    "text = f.read()\n",
    "split_lst = text.split(\"\\n\")\n",
    "print(split_lst[0:10])"
   ]
  },
  {
   "cell_type": "code",
   "execution_count": 2,
   "metadata": {
    "collapsed": false
   },
   "outputs": [
    {
     "name": "stdout",
     "output_type": "stream",
     "text": [
      "[[1994, 1, 1, 6, 8096], [1994, 1, 2, 7, 7772], [1994, 1, 3, 1, 10142], [1994, 1, 4, 2, 11248], [1994, 1, 5, 3, 11053], [1994, 1, 6, 4, 11406], [1994, 1, 7, 5, 11251], [1994, 1, 8, 6, 8653], [1994, 1, 9, 7, 7910], [1994, 1, 10, 1, 10498]]\n"
     ]
    }
   ],
   "source": [
    "def read_csv(file_name):\n",
    "    f = open(file_name,'r')\n",
    "    text = f.read()\n",
    "    split_lst = text.split(\"\\n\")\n",
    "    string_lst = split_lst[1:len(split_lst)]\n",
    "    final_list = []\n",
    "    for row in string_lst:\n",
    "        int_fields = []\n",
    "        string_fields = row.split(\",\")\n",
    "        for value in string_fields:\n",
    "             int_fields.append(int(value))\n",
    "        final_list.append(int_fields)\n",
    "    return final_list\n",
    "cdc_list = read_csv(\"US_births_1994-2003_CDC_NCHS.csv\")\n",
    "print(cdc_list[0:10])\n",
    "             \n",
    "             "
   ]
  },
  {
   "cell_type": "code",
   "execution_count": 5,
   "metadata": {
    "collapsed": false
   },
   "outputs": [],
   "source": [
    "def month_births(input_list):\n",
    "    births_per_month = dict()\n",
    "    for row in input_list:\n",
    "        month = row[1]\n",
    "        births = row[4]\n",
    "        if month in births_per_month:\n",
    "            births_per_month[month] = births_per_month[month] + births\n",
    "        else:\n",
    "            births_per_month[month] = births\n",
    "    return(births_per_month)\n",
    "cdc_month_births = month_births(cdc_list)\n",
    "            "
   ]
  },
  {
   "cell_type": "code",
   "execution_count": 6,
   "metadata": {
    "collapsed": true
   },
   "outputs": [],
   "source": [
    "def month_births(input_list):\n",
    "    births_per_month = dict()\n",
    "    for row in input_list:\n",
    "        month = row[1]\n",
    "        births = row[4]\n",
    "        if month in births_per_month:\n",
    "            births_per_month[month] = births_per_month[month] + births\n",
    "        else:\n",
    "            births_per_month[month] = births\n",
    "    return(births_per_month)\n",
    "cdc_month_births = month_births(cdc_list)"
   ]
  },
  {
   "cell_type": "code",
   "execution_count": 7,
   "metadata": {
    "collapsed": false
   },
   "outputs": [
    {
     "name": "stdout",
     "output_type": "stream",
     "text": [
      "[[1994, 1, 1, 6, 8096], [1994, 1, 2, 7, 7772], [1994, 1, 3, 1, 10142], [1994, 1, 4, 2, 11248], [1994, 1, 5, 3, 11053], [1994, 1, 6, 4, 11406], [1994, 1, 7, 5, 11251], [1994, 1, 8, 6, 8653], [1994, 1, 9, 7, 7910], [1994, 1, 10, 1, 10498]]\n"
     ]
    }
   ],
   "source": [
    "def read_csv(file_name):\n",
    "    f = open(file_name,'r')\n",
    "    text = f.read()\n",
    "    split_lst = text.split(\"\\n\")\n",
    "    string_lst = split_lst[1:len(split_lst)]\n",
    "    final_list = []\n",
    "    for row in string_lst:\n",
    "        int_fields = []\n",
    "        string_fields = row.split(\",\")\n",
    "        for value in string_fields:\n",
    "             int_fields.append(int(value))\n",
    "        final_list.append(int_fields)\n",
    "    return final_list\n",
    "cdc_list = read_csv(\"US_births_1994-2003_CDC_NCHS.csv\")\n",
    "print(cdc_list[0:10])"
   ]
  },
  {
   "cell_type": "code",
   "execution_count": 8,
   "metadata": {
    "collapsed": true
   },
   "outputs": [],
   "source": [
    "def month_births(input_list):\n",
    "    births_per_month = dict()\n",
    "    for row in input_list:\n",
    "        month = row[1]\n",
    "        births = row[4]\n",
    "        if month in births_per_month:\n",
    "            births_per_month[month] = births_per_month[month] + births\n",
    "        else:\n",
    "            births_per_month[month] = births\n",
    "    return(births_per_month)\n",
    "cdc_month_births = month_births(cdc_list)"
   ]
  },
  {
   "cell_type": "code",
   "execution_count": 3,
   "metadata": {
    "collapsed": false
   },
   "outputs": [
    {
     "name": "stdout",
     "output_type": "stream",
     "text": [
      "[[1994, 1, 1, 6, 8096], [1994, 1, 2, 7, 7772], [1994, 1, 3, 1, 10142], [1994, 1, 4, 2, 11248], [1994, 1, 5, 3, 11053], [1994, 1, 6, 4, 11406], [1994, 1, 7, 5, 11251], [1994, 1, 8, 6, 8653], [1994, 1, 9, 7, 7910], [1994, 1, 10, 1, 10498]]\n"
     ]
    }
   ],
   "source": [
    "def read_csv(file_name):\n",
    "    f = open(file_name,'r')\n",
    "    text = f.read()\n",
    "    split_lst = text.split(\"\\n\")\n",
    "    string_lst = split_lst[1:len(split_lst)]\n",
    "    final_list = []\n",
    "    for row in string_lst:\n",
    "        int_fields = []\n",
    "        string_fields = row.split(\",\")\n",
    "        for value in string_fields:\n",
    "             int_fields.append(int(value))\n",
    "        final_list.append(int_fields)\n",
    "    return final_list\n",
    "cdc_list = read_csv(\"US_births_1994-2003_CDC_NCHS.csv\")\n",
    "print(cdc_list[0:10])"
   ]
  },
  {
   "cell_type": "code",
   "execution_count": 2,
   "metadata": {
    "collapsed": true
   },
   "outputs": [],
   "source": [
    "def month_births(input_list):\n",
    "    births_per_month = dict()\n",
    "    for row in input_list:\n",
    "        month = row[1]\n",
    "        births = row[4]\n",
    "        if month in births_per_month:\n",
    "            births_per_month[month] = births_per_month[month] + births\n",
    "        else:\n",
    "            births_per_month[month] = births\n",
    "    return(births_per_month)\n",
    "cdc_month_births = month_births(cdc_list)"
   ]
  },
  {
   "cell_type": "code",
   "execution_count": 1,
   "metadata": {
    "collapsed": false
   },
   "outputs": [
    {
     "name": "stdout",
     "output_type": "stream",
     "text": [
      "[[1994, 1, 1, 6, 8096], [1994, 1, 2, 7, 7772], [1994, 1, 3, 1, 10142], [1994, 1, 4, 2, 11248], [1994, 1, 5, 3, 11053], [1994, 1, 6, 4, 11406], [1994, 1, 7, 5, 11251], [1994, 1, 8, 6, 8653], [1994, 1, 9, 7, 7910], [1994, 1, 10, 1, 10498]]\n"
     ]
    }
   ],
   "source": [
    "def read_csv(file_name):\n",
    "    f = open(file_name,'r')\n",
    "    text = f.read()\n",
    "    split_lst = text.split(\"\\n\")\n",
    "    string_lst = split_lst[1:len(split_lst)]\n",
    "    final_list = []\n",
    "    for row in string_lst:\n",
    "        int_fields = []\n",
    "        string_fields = row.split(\",\")\n",
    "        for value in string_fields:\n",
    "             int_fields.append(int(value))\n",
    "        final_list.append(int_fields)\n",
    "    return final_list\n",
    "cdc_list = read_csv(\"US_births_1994-2003_CDC_NCHS.csv\")\n",
    "print(cdc_list[0:10])"
   ]
  },
  {
   "cell_type": "code",
   "execution_count": 2,
   "metadata": {
    "collapsed": false
   },
   "outputs": [
    {
     "name": "stdout",
     "output_type": "stream",
     "text": [
      "{1: 3232517, 2: 3018140, 3: 3322069, 4: 3185314, 5: 3350907, 6: 3296530, 7: 3498783, 8: 3525858, 9: 3439698, 10: 3378814, 11: 3171647, 12: 3301860}\n"
     ]
    }
   ],
   "source": [
    "def month_births(input_list):\n",
    "    births_per_month = dict()\n",
    "    for row in input_list:\n",
    "        month = row[1]\n",
    "        births = row[4]\n",
    "        if month in births_per_month:\n",
    "            births_per_month[month] = births_per_month[month] + births\n",
    "        else:\n",
    "            births_per_month[month] = births\n",
    "    return(births_per_month)\n",
    "cdc_month_births = month_births(cdc_list)\n",
    "print(cdc_month_births)"
   ]
  },
  {
   "cell_type": "code",
   "execution_count": 5,
   "metadata": {
    "collapsed": false
   },
   "outputs": [
    {
     "name": "stdout",
     "output_type": "stream",
     "text": [
      "{1: 5789166, 2: 6446196, 3: 6322855, 4: 6288429, 5: 6233657, 6: 4562111, 7: 4079723}\n"
     ]
    }
   ],
   "source": [
    "def dow_births(input_list):\n",
    "    births_per_week = dict()\n",
    "    for row in input_list:\n",
    "        day_week = row[3]\n",
    "        births = row[4]\n",
    "        if day_week in births_per_week:\n",
    "            births_per_week[day_week] = births_per_week[day_week] + births\n",
    "        else:\n",
    "            births_per_week[day_week] = births\n",
    "    return(births_per_week)\n",
    "cdc_day_births = dow_births(cdc_list)\n",
    "print(cdc_day_births)\n",
    "            "
   ]
  },
  {
   "cell_type": "code",
   "execution_count": 3,
   "metadata": {
    "collapsed": false
   },
   "outputs": [
    {
     "name": "stdout",
     "output_type": "stream",
     "text": [
      "{2000: 4058814, 2001: 4025933, 2002: 4021726, 2003: 4089950, 1994: 3952767, 1995: 3899589, 1996: 3891494, 1997: 3880894, 1998: 3941553, 1999: 3959417}\n",
      "{1: 3232517, 2: 3018140, 3: 3322069, 4: 3185314, 5: 3350907, 6: 3296530, 7: 3498783, 8: 3525858, 9: 3439698, 10: 3378814, 11: 3171647, 12: 3301860}\n",
      "{1: 1276557, 2: 1288739, 3: 1304499, 4: 1288154, 5: 1299953, 6: 1304474, 7: 1310459, 8: 1312297, 9: 1303292, 10: 1320764, 11: 1314361, 12: 1318437, 13: 1277684, 14: 1320153, 15: 1319171, 16: 1315192, 17: 1324953, 18: 1326855, 19: 1318727, 20: 1324821, 21: 1322897, 22: 1317381, 23: 1293290, 24: 1288083, 25: 1272116, 26: 1284796, 27: 1294395, 28: 1307685, 29: 1223161, 30: 1202095, 31: 746696}\n",
      "{1: 5789166, 2: 6446196, 3: 6322855, 4: 6288429, 5: 6233657, 6: 4562111, 7: 4079723}\n"
     ]
    }
   ],
   "source": [
    "def calc_counts(data, column):\n",
    "    births_per_input = dict()\n",
    "    for row in data:\n",
    "        data1 = row[column]\n",
    "        births = row[4]\n",
    "        if data1 in births_per_input:\n",
    "            births_per_input[data1] = births_per_input[data1] + births\n",
    "        else:\n",
    "            births_per_input[data1] = births\n",
    "    return(births_per_input)\n",
    "cdc_year_births = calc_counts(cdc_list, 0)\n",
    "print(cdc_year_births)\n",
    "cdc_month_births = calc_counts(cdc_list, 1)\n",
    "print(cdc_month_births)\n",
    "cdc_dom_births = calc_counts(cdc_list, 2)\n",
    "print (cdc_dom_births)\n",
    "cdc_dow_births = calc_counts(cdc_list, 3)\n",
    "print (cdc_dow_births)"
   ]
  },
  {
   "cell_type": "code",
   "execution_count": 4,
   "metadata": {
    "collapsed": false
   },
   "outputs": [
    {
     "name": "stdout",
     "output_type": "stream",
     "text": [
      "(1326855, 746696)\n"
     ]
    }
   ],
   "source": [
    "def min_max(dic):\n",
    "    values_list = dic.values()\n",
    "    max_value = max(values_list)\n",
    "    min_value = min(values_list)\n",
    "    return(max_value,min_value)\n",
    "    \n",
    "minimmax = min_max(cdc_dom_births)\n",
    "print(minimmax)\n",
    "    \n",
    "            \n",
    "            \n"
   ]
  },
  {
   "cell_type": "code",
   "execution_count": 5,
   "metadata": {
    "collapsed": false
   },
   "outputs": [
    {
     "name": "stdout",
     "output_type": "stream",
     "text": [
      "{1: 5789166, 2: 6446196, 3: 6322855, 4: 6288429, 5: 6233657, 6: 4562111, 7: 4079723}\n"
     ]
    }
   ],
   "source": [
    "minmax_dayow = min_max(cdc_dow_births)\n",
    "print(cdc_dow_births)"
   ]
  },
  {
   "cell_type": "code",
   "execution_count": 7,
   "metadata": {
    "collapsed": false
   },
   "outputs": [
    {
     "name": "stdout",
     "output_type": "stream",
     "text": [
      "{2000: 416454, 2001: 397119, 2002: 391375, 2003: 393299, 1994: 428752, 1995: 425790, 1996: 413336, 1997: 404478, 1998: 407129, 1999: 401991}\n"
     ]
    }
   ],
   "source": [
    "def calc_counts2(data,column,column_consecutive_value):\n",
    "    births = {} \n",
    "    for element in data:\n",
    "        if element[0] in births and element[column] == column_consecutive_value:\n",
    "            births[element[0]] += element[4]\n",
    "        elif element[0] not in births and element[column] == column_consecutive_value:\n",
    "            births[element[0]] = element[4] \n",
    "            cdc_year_births = births \n",
    "    return(cdc_year_births) \n",
    "print(calc_counts2(cdc_list,3,7))\n",
    "\n",
    "\n",
    "    "
   ]
  },
  {
   "cell_type": "code",
   "execution_count": 9,
   "metadata": {
    "collapsed": false
   },
   "outputs": [
    {
     "name": "stdout",
     "output_type": "stream",
     "text": [
      "{2000: 469794, 2001: 453928, 2002: 445770, 2003: 447445, 1994: 474732, 1995: 459580, 1996: 456261, 1997: 450840, 1998: 453776, 1999: 449985}\n"
     ]
    }
   ],
   "source": [
    "def calc_birth_across_year(list_of_lists,calc_birth_count_against,calc_against_specific):\n",
    "    dict_birth_per_year={}\n",
    "    for data in list_of_lists:\n",
    "        if data[calc_birth_count_against] == calc_against_specific: #only saturdays \n",
    "            birth_year=data[0] \n",
    "            no_of_births=data[4]\n",
    "            if birth_year in dict_birth_per_year:\n",
    "                dict_birth_per_year[birth_year] += no_of_births\n",
    "            else:\n",
    "                dict_birth_per_year[birth_year]=no_of_births\n",
    "    return dict_birth_per_year\n",
    "birth_on_saturdays_every_year=calc_birth_across_year(cdc_list,3,6)\n",
    "print(birth_on_saturdays_every_year)"
   ]
  },
  {
   "cell_type": "code",
   "execution_count": null,
   "metadata": {
    "collapsed": true
   },
   "outputs": [],
   "source": []
  }
 ],
 "metadata": {
  "anaconda-cloud": {},
  "kernelspec": {
   "display_name": "Python 3",
   "language": "python",
   "name": "python3"
  },
  "language_info": {
   "codemirror_mode": {
    "name": "ipython",
    "version": 3
   },
   "file_extension": ".py",
   "mimetype": "text/x-python",
   "name": "python",
   "nbconvert_exporter": "python",
   "pygments_lexer": "ipython3",
   "version": "3.4.3"
  }
 },
 "nbformat": 4,
 "nbformat_minor": 1
}
